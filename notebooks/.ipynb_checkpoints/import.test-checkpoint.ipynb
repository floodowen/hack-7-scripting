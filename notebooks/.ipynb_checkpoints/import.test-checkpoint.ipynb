{
 "cells": [
  {
   "cell_type": "code",
   "execution_count": 1,
   "id": "toxic-sweden",
   "metadata": {},
   "outputs": [
    {
     "name": "stdout",
     "output_type": "stream",
     "text": [
      "['/Users/oflood/hacks/hack-7-scripting/notebooks', '/Users/oflood/miniconda3/lib/python38.zip', '/Users/oflood/miniconda3/lib/python3.8', '/Users/oflood/miniconda3/lib/python3.8/lib-dynload', '', '/Users/oflood/miniconda3/lib/python3.8/site-packages', '/Users/oflood/miniconda3/lib/python3.8/site-packages/IPython/extensions', '/Users/oflood/.ipython']\n"
     ]
    }
   ],
   "source": [
    "# import sys from the standard lib\n",
    "import sys\n",
    "print(sys.path)"
   ]
  },
  {
   "cell_type": "code",
   "execution_count": 2,
   "id": "specific-cabinet",
   "metadata": {},
   "outputs": [
    {
     "name": "stdout",
     "output_type": "stream",
     "text": [
      "['/Users/oflood/hacks/hack-7-scripting/notebooks', '/Users/oflood/miniconda3/lib/python38.zip', '/Users/oflood/miniconda3/lib/python3.8', '/Users/oflood/miniconda3/lib/python3.8/lib-dynload', '', '/Users/oflood/miniconda3/lib/python3.8/site-packages', '/Users/oflood/miniconda3/lib/python3.8/site-packages/IPython/extensions', '/Users/oflood/.ipython', '../']\n"
     ]
    }
   ],
   "source": [
    "# append your current parent dir to the sys.path list\n",
    "sys.path.append(\"../\")\n",
    "\n",
    "# show the updated sys.path \n",
    "print(sys.path)"
   ]
  },
  {
   "cell_type": "code",
   "execution_count": 3,
   "id": "opponent-village",
   "metadata": {},
   "outputs": [
    {
     "data": {
      "text/plain": [
       "'Reply hazy, try again.'"
      ]
     },
     "execution_count": 3,
     "metadata": {},
     "output_type": "execute_result"
    }
   ],
   "source": [
    "import mypackage.mymodule\n",
    "mypackage.mymodule.magic_eight_ball()"
   ]
  },
  {
   "cell_type": "code",
   "execution_count": 4,
   "id": "attractive-investigator",
   "metadata": {},
   "outputs": [
    {
     "data": {
      "text/plain": [
       "'Yes – definitely.'"
      ]
     },
     "execution_count": 4,
     "metadata": {},
     "output_type": "execute_result"
    }
   ],
   "source": [
    "from mypackage import mymodule\n",
    "mymodule.magic_eight_ball()"
   ]
  },
  {
   "cell_type": "code",
   "execution_count": 5,
   "id": "outside-particle",
   "metadata": {},
   "outputs": [
    {
     "data": {
      "text/plain": [
       "'Cannot predict now.'"
      ]
     },
     "execution_count": 5,
     "metadata": {},
     "output_type": "execute_result"
    }
   ],
   "source": [
    "from mypackage.mymodule import magic_eight_ball\n",
    "magic_eight_ball()"
   ]
  },
  {
   "cell_type": "code",
   "execution_count": 6,
   "id": "precious-oregon",
   "metadata": {},
   "outputs": [
    {
     "data": {
      "text/plain": [
       "'Outlook not so good'"
      ]
     },
     "execution_count": 6,
     "metadata": {},
     "output_type": "execute_result"
    }
   ],
   "source": [
    "import mypackage\n",
    "mypackage.mymodule.magic_eight_ball()"
   ]
  },
  {
   "cell_type": "code",
   "execution_count": 7,
   "id": "literary-education",
   "metadata": {},
   "outputs": [],
   "source": [
    "# show the package-level docstring\n",
    "mypackage?"
   ]
  },
  {
   "cell_type": "code",
   "execution_count": null,
   "id": "raising-width",
   "metadata": {},
   "outputs": [],
   "source": []
  }
 ],
 "metadata": {
  "kernelspec": {
   "display_name": "Python 3",
   "language": "python",
   "name": "python3"
  },
  "language_info": {
   "codemirror_mode": {
    "name": "ipython",
    "version": 3
   },
   "file_extension": ".py",
   "mimetype": "text/x-python",
   "name": "python",
   "nbconvert_exporter": "python",
   "pygments_lexer": "ipython3",
   "version": "3.8.5"
  }
 },
 "nbformat": 4,
 "nbformat_minor": 5
}
